{
  "nbformat": 4,
  "nbformat_minor": 0,
  "metadata": {
    "colab": {
      "name": "CIS680_Fall2019_RLFinalProject.ipynb",
      "provenance": [],
      "collapsed_sections": [],
      "toc_visible": true
    },
    "kernelspec": {
      "name": "python3",
      "display_name": "Python 3"
    },
    "accelerator": "GPU"
  },
  "cells": [
    {
      "cell_type": "markdown",
      "metadata": {
        "id": "mHbNxdP6eLd2",
        "colab_type": "text"
      },
      "source": [
        "# Google Drive\n",
        "\n",
        "This first code block attaches your google drive and makes a folder structure. You only need to run this when a new VM is assigned to you. To get your code as a single python file go through the following menus File->'Download .py'."
      ]
    },
    {
      "cell_type": "code",
      "metadata": {
        "id": "PYICcmTfdm0J",
        "colab_type": "code",
        "outputId": "c26e1bfb-c494-4164-f92f-7ee114d5e587",
        "colab": {
          "base_uri": "https://localhost:8080/",
          "height": 35
        }
      },
      "source": [
        "import os\n",
        "from google.colab import drive\n",
        "\n",
        "# Mount google drive\n",
        "DRIVE_MOUNT='/content/gdrive'\n",
        "drive.mount(DRIVE_MOUNT)\n",
        "\n",
        "# create folder to write data to\n",
        "CIS680_FOLDER=os.path.join(DRIVE_MOUNT, 'My Drive', 'CIS680_2019')\n",
        "HOMEWORK_FOLDER=os.path.join(CIS680_FOLDER, 'FinalProject')\n",
        "os.makedirs(HOMEWORK_FOLDER, exist_ok=True)\n",
        "checkpoint_path = os.path.join(HOMEWORK_FOLDER, \"params\")\n",
        "os.makedirs(checkpoint_path, exist_ok=True)"
      ],
      "execution_count": 1,
      "outputs": [
        {
          "output_type": "stream",
          "text": [
            "Drive already mounted at /content/gdrive; to attempt to forcibly remount, call drive.mount(\"/content/gdrive\", force_remount=True).\n"
          ],
          "name": "stdout"
        }
      ]
    },
    {
      "cell_type": "markdown",
      "metadata": {
        "id": "2J9W9xngyE0w",
        "colab_type": "text"
      },
      "source": [
        "# Software installation\n",
        "\n",
        "The OpenAI Gym library we are will use for the RL simulation environment is installed here."
      ]
    },
    {
      "cell_type": "code",
      "metadata": {
        "id": "EMOhiMyYyBeq",
        "colab_type": "code",
        "colab": {}
      },
      "source": [
        "!pip install gym[all] pyvirtualdisplay > /dev/null 2>&1\n",
        "!apt-get install -y xvfb python-opengl ffmpeg > /dev/null 2>&1\n",
        "!pip install box2d-py gym[box2d] > /dev/null 2>&1\n",
        "!pip install visdom > /dev/null 2>&1"
      ],
      "execution_count": 0,
      "outputs": []
    },
    {
      "cell_type": "markdown",
      "metadata": {
        "id": "VBM93W4w0NEz",
        "colab_type": "text"
      },
      "source": [
        "# Start a virtual display\n",
        "\n",
        "A virtual display is needed to communicate with the X server in the backend."
      ]
    },
    {
      "cell_type": "code",
      "metadata": {
        "id": "9rko_QaByPRA",
        "colab_type": "code",
        "outputId": "ca39e0c4-ff00-4ca8-d080-2ed4e56d7391",
        "colab": {
          "base_uri": "https://localhost:8080/",
          "height": 73
        }
      },
      "source": [
        "from pyvirtualdisplay import Display\n",
        "display = Display(visible=0, size=(1400, 900))\n",
        "display.start()"
      ],
      "execution_count": 3,
      "outputs": [
        {
          "output_type": "stream",
          "text": [
            "xdpyinfo was not found, X start can not be checked! Please install xdpyinfo!\n"
          ],
          "name": "stderr"
        },
        {
          "output_type": "execute_result",
          "data": {
            "text/plain": [
              "<Display cmd_param=['Xvfb', '-br', '-nolisten', 'tcp', '-screen', '0', '1400x900x24', ':1001'] cmd=['Xvfb', '-br', '-nolisten', 'tcp', '-screen', '0', '1400x900x24', ':1001'] oserror=None return_code=None stdout=\"None\" stderr=\"None\" timeout_happened=False>"
            ]
          },
          "metadata": {
            "tags": []
          },
          "execution_count": 3
        }
      ]
    },
    {
      "cell_type": "markdown",
      "metadata": {
        "id": "pw-yUtFqiNFR",
        "colab_type": "text"
      },
      "source": [
        "# Import Car Racing Environment\n",
        "\n",
        "Use reinforcement learning to race a car around a track.\n",
        "\n",
        "Official environment documentation is provided at:\n",
        "\n",
        "https://gym.openai.com/envs/CarRacing-v0/\n",
        "\n",
        "From OpenAI:\n",
        "\n",
        "State consists of 96x96 pixels. Reward is -0.1 every frame and +1000/N for every track tile visited, where N is the total number of tiles in track. For example, if you have finished in 732 frames, your reward is 1000 - 0.1*732 = 926.8 points. Episode finishes when all tiles are visited.\n"
      ]
    },
    {
      "cell_type": "code",
      "metadata": {
        "id": "hguIwry8iH9S",
        "colab_type": "code",
        "colab": {}
      },
      "source": [
        "import gym\n",
        "\n",
        "env = gym.make('CarRacing-v0')\n",
        "# Uncomment below line for environment documentation\n",
        "# help(env)"
      ],
      "execution_count": 0,
      "outputs": []
    },
    {
      "cell_type": "code",
      "metadata": {
        "id": "EIt1jvQH_IXQ",
        "colab_type": "code",
        "outputId": "755d2f5b-1aa8-4976-e66a-362a56d7feca",
        "colab": {
          "base_uri": "https://localhost:8080/",
          "height": 287
        }
      },
      "source": [
        "import matplotlib.pyplot as plt\n",
        "\n",
        "env.reset()\n",
        "frame = env.render(mode='rgb_array')\n",
        "\n",
        "plt.imshow(frame)\n",
        "plt.show()"
      ],
      "execution_count": 5,
      "outputs": [
        {
          "output_type": "stream",
          "text": [
            "Track generation: 1101..1386 -> 285-tiles track\n"
          ],
          "name": "stdout"
        },
        {
          "output_type": "display_data",
          "data": {
            "image/png": "[encoded data removed]",
            "text/plain": [
              "<Figure size 432x288 with 1 Axes>"
            ]
          },
          "metadata": {
            "tags": []
          }
        }
      ]
    },
    {
      "cell_type": "markdown",
      "metadata": {
        "id": "EvNh3B3FiAPY",
        "colab_type": "text"
      },
      "source": [
        "# Implement Your Solution\n",
        "\n",
        "For training any models, it will be helpful to save checkpoints and reload from the most recent. This is due to time constraints inside of colab.\n",
        "\n",
        "While most of the research using these platforms implements model-free reinforcement learning algorithms, you may implement other approaches including model-based methods."
      ]
    },
    {
      "cell_type": "code",
      "metadata": {
        "id": "Jc6lMEV9Rtqi",
        "colab_type": "code",
        "colab": {}
      },
      "source": [
        "import time\n",
        "import numpy as np\n",
        "import gym\n",
        "import torch\n",
        "import torch.nn as nn\n",
        "import torch.nn.functional as F\n",
        "import torch.optim as optim\n",
        "from torch.distributions import Beta\n",
        "from torch.utils.data.sampler import BatchSampler, SubsetRandomSampler\n",
        "import visdom\n",
        "use_cuda = torch.cuda.is_available()\n",
        "device = torch.device(\"cuda\" if use_cuda else \"cpu\")"
      ],
      "execution_count": 0,
      "outputs": []
    },
    {
      "cell_type": "markdown",
      "metadata": {
        "id": "y-40mzlMicZB",
        "colab_type": "text"
      },
      "source": [
        "# Hyper-Parameters"
      ]
    },
    {
      "cell_type": "code",
      "metadata": {
        "id": "jOwnCZ2EiZnK",
        "colab_type": "code",
        "colab": {}
      },
      "source": [
        "class Arguments():\n",
        "    def __init__(self):\n",
        "        self.gamma = 0.99\n",
        "        self.action_repeat = 8\n",
        "        self.img_stack = 4\n",
        "        self.seed = 0\n",
        "        self.render = False\n",
        "        self.vis = False\n",
        "        self.log_interval = 10\n",
        "\n",
        "args = Arguments()\n",
        "\n",
        "torch.manual_seed(args.seed)\n",
        "if use_cuda:\n",
        "    torch.cuda.manual_seed(args.seed)\n",
        "\n",
        "dtype_vec = np.dtype([('s', np.float64, (args.img_stack, 96, 96)), ('a', np.float64, (3,)), ('a_logp', np.float64),\n",
        "                       ('r', np.float64), ('s_', np.float64, (args.img_stack, 96, 96))])"
      ],
      "execution_count": 0,
      "outputs": []
    },
    {
      "cell_type": "markdown",
      "metadata": {
        "id": "AtRtz8IYi77u",
        "colab_type": "text"
      },
      "source": [
        "# Model"
      ]
    },
    {
      "cell_type": "code",
      "metadata": {
        "id": "fXz0m36gi64g",
        "colab_type": "code",
        "colab": {}
      },
      "source": [
        "class Net(nn.Module):\n",
        "    def __init__(self):\n",
        "        super(Net, self).__init__()\n",
        "        self.cnn_layer1 = nn.Sequential(\n",
        "            nn.Conv2d(4, 8, kernel_size=4, stride=2),\n",
        "            nn.BatchNorm2d(8),\n",
        "            nn.ReLU()\n",
        "        )\n",
        "        self.cnn_layer2 = nn.Sequential(\n",
        "            nn.Conv2d(8, 16, kernel_size=3, stride=2,),\n",
        "            nn.BatchNorm2d(16),\n",
        "            nn.ReLU()\n",
        "        )\n",
        "        self.cnn_layer3 = nn.Sequential(\n",
        "            nn.Conv2d(16, 32, kernel_size=3, stride=2),\n",
        "            nn.BatchNorm2d(32),\n",
        "            nn.ReLU(),\n",
        "        )\n",
        "        self.cnn_layer4 = nn.Sequential(\n",
        "            nn.Conv2d(32, 64, kernel_size=3, stride=2),\n",
        "            nn.BatchNorm2d(64),\n",
        "            nn.ReLU()\n",
        "        )\n",
        "        self.cnn_layer5 = nn.Sequential(\n",
        "            nn.Conv2d(64, 128, kernel_size=3, stride=1),\n",
        "            nn.BatchNorm2d(128),\n",
        "            nn.ReLU()\n",
        "        )\n",
        "        self.cnn_layer6 = nn.Sequential(\n",
        "            nn.Conv2d(128, 256, kernel_size=3, stride=1),\n",
        "            nn.ReLU()\n",
        "        )\n",
        "\n",
        "        self.v_head = nn.Sequential(\n",
        "            nn.Linear(256, 128),\n",
        "            nn.ReLU(),\n",
        "            nn.Linear(128, 1),\n",
        "            nn.ReLU()\n",
        "        )\n",
        "\n",
        "        self.fc_layer = nn.Sequential(\n",
        "            nn.Linear(256, 128),\n",
        "            nn.ReLU()\n",
        "        )\n",
        "        self.alpha_head = nn.Sequential(\n",
        "            nn.Linear(128, 3),\n",
        "            nn.Softplus()\n",
        "        )\n",
        "        self.beta_head = nn.Sequential(\n",
        "            nn.Linear(128, 3),\n",
        "            nn.Softplus()\n",
        "        )\n",
        "        self.apply(self._weights_init)\n",
        "\n",
        "    def forward(self, x):\n",
        "        x = self.cnn_layer1(x)\n",
        "        x = self.cnn_layer2(x)\n",
        "        x = self.cnn_layer3(x)\n",
        "        x = self.cnn_layer4(x)\n",
        "        x = self.cnn_layer5(x)\n",
        "        x = self.cnn_layer6(x)\n",
        "        x = x.view(-1, 256)\n",
        "        v = self.v_head(x)\n",
        "        alpha = self.alpha_head(self.fc_layer(x)) + 1\n",
        "        beta = self.beta_head(self.fc_layer(x)) + 1\n",
        "        return (alpha, beta), v\n",
        "\n",
        "    @staticmethod\n",
        "    def _weights_init(m):\n",
        "        if isinstance(m, nn.Conv2d):\n",
        "            nn.init.xavier_uniform_(m.weight, gain=nn.init.calculate_gain('relu'))\n",
        "            nn.init.constant_(m.bias, 0.1)\n",
        "\n",
        "class ACNet(nn.Module):\n",
        "    \"\"\"\n",
        "    Actor-Critic Network for PPO\n",
        "    \"\"\"\n",
        "\n",
        "    def __init__(self):\n",
        "        super(ACNet, self).__init__()\n",
        "        self.cnn_base = nn.Sequential(  # input shape (4, 96, 96)\n",
        "            nn.Conv2d(args.img_stack, 8, kernel_size=4, stride=2),\n",
        "            nn.ReLU(),  # activation\n",
        "            nn.Conv2d(8, 16, kernel_size=3, stride=2),  # (8, 47, 47)\n",
        "            nn.ReLU(),  # activation\n",
        "            nn.Conv2d(16, 32, kernel_size=3, stride=2),  # (16, 23, 23)\n",
        "            nn.ReLU(),  # activation\n",
        "            nn.Conv2d(32, 64, kernel_size=3, stride=2),  # (32, 11, 11)\n",
        "            nn.ReLU(),  # activation\n",
        "            nn.Conv2d(64, 128, kernel_size=3, stride=1),  # (64, 5, 5)\n",
        "            nn.ReLU(),  # activation\n",
        "            nn.Conv2d(128, 256, kernel_size=3, stride=1),  # (128, 3, 3)\n",
        "            nn.ReLU(),  # activation\n",
        "        )  # output shape (256, 1, 1)\n",
        "        self.v = nn.Sequential(nn.Linear(256, 100), nn.ReLU(), nn.Linear(100, 1))\n",
        "        self.fc = nn.Sequential(nn.Linear(256, 100), nn.ReLU())\n",
        "        self.alpha_head = nn.Sequential(nn.Linear(100, 3), nn.Softplus())\n",
        "        self.beta_head = nn.Sequential(nn.Linear(100, 3), nn.Softplus())\n",
        "        self.apply(self._weights_init)\n",
        "\n",
        "    @staticmethod\n",
        "    def _weights_init(m):\n",
        "        if isinstance(m, nn.Conv2d):\n",
        "            nn.init.xavier_uniform_(m.weight, gain=nn.init.calculate_gain('relu'))\n",
        "            nn.init.constant_(m.bias, 0.1)\n",
        "\n",
        "    def forward(self, x):\n",
        "        x = self.cnn_base(x)\n",
        "        x = x.view(-1, 256)\n",
        "        v = self.v(x)\n",
        "        x = self.fc(x)\n",
        "        alpha = self.alpha_head(x) + 1\n",
        "        beta = self.beta_head(x) + 1\n",
        "\n",
        "        return (alpha, beta), v"
      ],
      "execution_count": 0,
      "outputs": []
    },
    {
      "cell_type": "markdown",
      "metadata": {
        "id": "W-PnDgO9jJ82",
        "colab_type": "text"
      },
      "source": [
        "# Agent"
      ]
    },
    {
      "cell_type": "code",
      "metadata": {
        "id": "sGJcjYW8jGFA",
        "colab_type": "code",
        "colab": {}
      },
      "source": [
        "class AgentTrain():\n",
        "    def __init__(self, max_norm, epsilon, epochs, num_buffer):\n",
        "        self.max_norm = max_norm\n",
        "        self.epsilon = epsilon\n",
        "        self.epochs = epochs\n",
        "        self.num_buffer = num_buffer\n",
        "        self.training_step = 0\n",
        "        self.acnet = ACNet().type(torch.float64).to(device)\n",
        "        self.buffer = np.empty(self.num_buffer, dtype=dtype_vec)\n",
        "        self.counter = 0\n",
        "        self.optimizer = optim.Adam(self.acnet.parameters(), lr=2e-4)\n",
        "\n",
        "    def policy(self, state):\n",
        "        state = torch.from_numpy(state).type(torch.float64).to(device).unsqueeze(0)\n",
        "        alpha, beta = self.acnet(state)[0]\n",
        "        distance = Beta(alpha, beta)\n",
        "        action = distance.sample().squeeze(0)\n",
        "        log_prob_a = distance.log_prob(action).sum(1)\n",
        "        action = action.cpu().numpy()\n",
        "        return action, log_prob_a.item()\n",
        "\n",
        "    def save_state(self, dtype_vec):\n",
        "        self.buffer[self.counter] = dtype_vec\n",
        "        self.counter += 1\n",
        "        flag = False\n",
        "        if self.counter >= self.num_buffer:\n",
        "            self.counter = 0\n",
        "            flag = True\n",
        "            return flag\n",
        "\n",
        "    def update(self):\n",
        "        self.training_step += 1\n",
        "        s = torch.tensor(self.buffer['s'], device=device).type(torch.float64)\n",
        "        a = torch.tensor(self.buffer['a'], device=device).type(torch.float64)\n",
        "        r = torch.tensor(self.buffer['r'], device=device).type(torch.float64).view(-1, 1)\n",
        "        s_ = torch.tensor(self.buffer['s_'], device=device).type(torch.float64)\n",
        "        log_prob_a_old = torch.tensor(self.buffer['log_prob_a'], dtype=torch.double).to(device).view(-1, 1)\n",
        "\n",
        "        with torch.no_grad():\n",
        "            v_output = r + 0.99 * self.acnet(s_)[1]\n",
        "            ad_v = v_output - self.acnet(s)[1]\n",
        "\n",
        "        for k in range(self.epochs):\n",
        "            for index in BatchSampler(SubsetRandomSampler(range(self.num_buffer)), 128, False):\n",
        "                alpha, beta = self.acnet(s[index])[0]\n",
        "                distance = Beta(alpha, beta)\n",
        "                log_prob_a = distance.log_prob(a[index]).sum(1, True)\n",
        "                a_div_old_a = torch.exp(log_prob_a - log_prob_a_old[index])\n",
        "                obj1 = a_div_old_a * ad_v[index]\n",
        "                obj2 = torch.clamp(a_div_old_a, 1.0 - self.epsilon, 1.0 + self.epsilon) * ad_v[index]\n",
        "                action_loss = -torch.min(obj1, obj2).mean()\n",
        "                value_loss = F.smooth_l1_loss(self.acnet(s[index])[1], v_output[index])\n",
        "                loss = action_loss + 2 * value_loss\n",
        "                self.optimizer.zero_grad()\n",
        "                loss.backward()\n",
        "                self.optimizer.step()\n",
        "\n",
        "    def get_parameter_number(self):\n",
        "    \n",
        "        \ttotal_num = sum(p.numel() for p in self.acnet.parameters())\n",
        "        \ttrainable_num = sum(p.numel() for p in self.acnet.parameters() if p.requires_grad)\n",
        "        \tprint(self.acnet.state_dict)\n",
        "        \treturn total_num, trainable_num\n",
        "\n"
      ],
      "execution_count": 0,
      "outputs": []
    },
    {
      "cell_type": "markdown",
      "metadata": {
        "id": "_IJvK5CZjOU4",
        "colab_type": "text"
      },
      "source": [
        "# Train"
      ]
    },
    {
      "cell_type": "code",
      "metadata": {
        "id": "lLCBiNuKGhmH",
        "colab_type": "code",
        "outputId": "d1e4dad7-a3ae-4524-e00e-82c2be36b0ae",
        "colab": {
          "base_uri": "https://localhost:8080/",
          "height": 1000
        }
      },
      "source": [
        "def reward_memory():\n",
        "    count = 0\n",
        "    length = 100\n",
        "    history = np.zeros(length)\n",
        "\n",
        "    def memory(reward):\n",
        "        nonlocal count\n",
        "        history[count] = reward\n",
        "        count = (count + 1) % length\n",
        "        return np.mean(history)\n",
        "\n",
        "    return memory\n",
        "\n",
        "def reset(env):\n",
        "    av_r = reward_memory()\n",
        "    die = False\n",
        "    img_rgb = env.reset()\n",
        "    img_gray = np.dot(img_rgb[..., :], [0.299, 0.587, 0.114])\n",
        "    img_gray = img_gray / 128. - 1\n",
        "    stack = [img_gray] * 4\n",
        "    return stack, av_r, die\n",
        "\n",
        "\n",
        "def step(env, action, av_r, stack):\n",
        "    total_reward = 0\n",
        "    for i in range(8):\n",
        "        img_rgb, reward, die, _ = env.step(action)\n",
        "        if die:\n",
        "            reward += 100   # no penalty for die\n",
        "        if np.mean(img_rgb[:, :, 1]) > 185.0:   # green penalty\n",
        "            reward -= 0.05\n",
        "        total_reward += reward\n",
        "        done = True if av_r(reward) <= -0.1 else False\n",
        "        if done or die:\n",
        "            break\n",
        "    img_gray = np.dot(img_rgb[..., :], [0.299, 0.587, 0.114])\n",
        "    img_gray = img_gray / 128. - 1\n",
        "    stack.pop(0)\n",
        "    stack.append(img_gray)\n",
        "    return np.array(stack), total_reward, done, die\n",
        "\n",
        "agent = AgentTrain(0.5, 0.1, 10, 1000)\n",
        "\n",
        "# Print the model and parameters\n",
        "total_num, trainable_num = agent.get_parameter_number()\n",
        "print(\"Number of total parameters: \", total_num)\n",
        "print(\"Number of trainable parameters: \", trainable_num)\n",
        "\n",
        "env = gym.make(\"CarRacing-v0\")\n",
        "env.seed(0)\n",
        "reward_threshold = env.spec.reward_threshold\n",
        "stack, _, _ = reset(env)\n",
        "state = np.array(stack)\n",
        "training_records = []\n",
        "running_score = 0\n",
        "for i_ep in range(2500):\n",
        "    score = 0\n",
        "    stack, av_r, die = reset(env)\n",
        "    state = np.array(stack)\n",
        "    for t in range(1000):\n",
        "        action, log_prob_a = agent.policy(state)\n",
        "        state_, reward, done, die = step(env, action * np.array([2., 1., 1.]) + np.array([-1., 0., 0.]), av_r, stack)\n",
        "        if agent.save_state((state, action, log_prob_a, reward, state_)):\n",
        "            agent.update()\n",
        "        score += reward\n",
        "        state = state_\n",
        "        if done or die:\n",
        "            break\n",
        "    running_score = running_score * 0.99 + score * 0.01\n",
        "\n",
        "    if i_ep % 10 == 0:\n",
        "        print('i_ep: {}, score: {}'.format(i_ep, running_score))\n",
        "        torch.save(agent.acnet.state_dict(), os.path.join(checkpoint_path, 'ppo_net_params_{}.pth'.format(i_ep)))\n",
        "    if running_score > reward_threshold:\n",
        "        break\n"
      ],
      "execution_count": 10,
      "outputs": [
        {
          "output_type": "stream",
          "text": [
            "<bound method Module.state_dict of ACNet(\n",
            "  (cnn_base): Sequential(\n",
            "    (0): Conv2d(4, 8, kernel_size=(4, 4), stride=(2, 2))\n",
            "    (1): ReLU()\n",
            "    (2): Conv2d(8, 16, kernel_size=(3, 3), stride=(2, 2))\n",
            "    (3): ReLU()\n",
            "    (4): Conv2d(16, 32, kernel_size=(3, 3), stride=(2, 2))\n",
            "    (5): ReLU()\n",
            "    (6): Conv2d(32, 64, kernel_size=(3, 3), stride=(2, 2))\n",
            "    (7): ReLU()\n",
            "    (8): Conv2d(64, 128, kernel_size=(3, 3), stride=(1, 1))\n",
            "    (9): ReLU()\n",
            "    (10): Conv2d(128, 256, kernel_size=(3, 3), stride=(1, 1))\n",
            "    (11): ReLU()\n",
            "  )\n",
            "  (v): Sequential(\n",
            "    (0): Linear(in_features=256, out_features=100, bias=True)\n",
            "    (1): ReLU()\n",
            "    (2): Linear(in_features=100, out_features=1, bias=True)\n",
            "  )\n",
            "  (fc): Sequential(\n",
            "    (0): Linear(in_features=256, out_features=100, bias=True)\n",
            "    (1): ReLU()\n",
            "  )\n",
            "  (alpha_head): Sequential(\n",
            "    (0): Linear(in_features=100, out_features=3, bias=True)\n",
            "    (1): Softplus(beta=1, threshold=20)\n",
            "  )\n",
            "  (beta_head): Sequential(\n",
            "    (0): Linear(in_features=100, out_features=3, bias=True)\n",
            "    (1): Softplus(beta=1, threshold=20)\n",
            "  )\n",
            ")>\n",
            "Number of total parameters:  445955\n",
            "Number of trainable parameters:  445955\n",
            "Track generation: 1143..1442 -> 299-tiles track\n",
            "Track generation: 1087..1369 -> 282-tiles track\n"
          ],
          "name": "stdout"
        },
        {
          "output_type": "error",
          "ename": "KeyboardInterrupt",
          "evalue": "ignored",
          "traceback": [
            "\u001b[0;31m---------------------------------------------------------------------------\u001b[0m",
            "\u001b[0;31mKeyboardInterrupt\u001b[0m                         Traceback (most recent call last)",
            "\u001b[0;32m<ipython-input-10-524386a9977a>\u001b[0m in \u001b[0;36m<module>\u001b[0;34m()\u001b[0m\n\u001b[1;32m     60\u001b[0m     \u001b[0;32mfor\u001b[0m \u001b[0mt\u001b[0m \u001b[0;32min\u001b[0m \u001b[0mrange\u001b[0m\u001b[0;34m(\u001b[0m\u001b[0;36m1000\u001b[0m\u001b[0;34m)\u001b[0m\u001b[0;34m:\u001b[0m\u001b[0;34m\u001b[0m\u001b[0;34m\u001b[0m\u001b[0m\n\u001b[1;32m     61\u001b[0m         \u001b[0maction\u001b[0m\u001b[0;34m,\u001b[0m \u001b[0mlog_prob_a\u001b[0m \u001b[0;34m=\u001b[0m \u001b[0magent\u001b[0m\u001b[0;34m.\u001b[0m\u001b[0mpolicy\u001b[0m\u001b[0;34m(\u001b[0m\u001b[0mstate\u001b[0m\u001b[0;34m)\u001b[0m\u001b[0;34m\u001b[0m\u001b[0;34m\u001b[0m\u001b[0m\n\u001b[0;32m---> 62\u001b[0;31m         \u001b[0mstate_\u001b[0m\u001b[0;34m,\u001b[0m \u001b[0mreward\u001b[0m\u001b[0;34m,\u001b[0m \u001b[0mdone\u001b[0m\u001b[0;34m,\u001b[0m \u001b[0mdie\u001b[0m \u001b[0;34m=\u001b[0m \u001b[0mstep\u001b[0m\u001b[0;34m(\u001b[0m\u001b[0menv\u001b[0m\u001b[0;34m,\u001b[0m \u001b[0maction\u001b[0m \u001b[0;34m*\u001b[0m \u001b[0mnp\u001b[0m\u001b[0;34m.\u001b[0m\u001b[0marray\u001b[0m\u001b[0;34m(\u001b[0m\u001b[0;34m[\u001b[0m\u001b[0;36m2.\u001b[0m\u001b[0;34m,\u001b[0m \u001b[0;36m1.\u001b[0m\u001b[0;34m,\u001b[0m \u001b[0;36m1.\u001b[0m\u001b[0;34m]\u001b[0m\u001b[0;34m)\u001b[0m \u001b[0;34m+\u001b[0m \u001b[0mnp\u001b[0m\u001b[0;34m.\u001b[0m\u001b[0marray\u001b[0m\u001b[0;34m(\u001b[0m\u001b[0;34m[\u001b[0m\u001b[0;34m-\u001b[0m\u001b[0;36m1.\u001b[0m\u001b[0;34m,\u001b[0m \u001b[0;36m0.\u001b[0m\u001b[0;34m,\u001b[0m \u001b[0;36m0.\u001b[0m\u001b[0;34m]\u001b[0m\u001b[0;34m)\u001b[0m\u001b[0;34m,\u001b[0m \u001b[0mav_r\u001b[0m\u001b[0;34m,\u001b[0m \u001b[0mstack\u001b[0m\u001b[0;34m)\u001b[0m\u001b[0;34m\u001b[0m\u001b[0;34m\u001b[0m\u001b[0m\n\u001b[0m\u001b[1;32m     63\u001b[0m         \u001b[0;32mif\u001b[0m \u001b[0magent\u001b[0m\u001b[0;34m.\u001b[0m\u001b[0msave_state\u001b[0m\u001b[0;34m(\u001b[0m\u001b[0;34m(\u001b[0m\u001b[0mstate\u001b[0m\u001b[0;34m,\u001b[0m \u001b[0maction\u001b[0m\u001b[0;34m,\u001b[0m \u001b[0mlog_prob_a\u001b[0m\u001b[0;34m,\u001b[0m \u001b[0mreward\u001b[0m\u001b[0;34m,\u001b[0m \u001b[0mstate_\u001b[0m\u001b[0;34m)\u001b[0m\u001b[0;34m)\u001b[0m\u001b[0;34m:\u001b[0m\u001b[0;34m\u001b[0m\u001b[0;34m\u001b[0m\u001b[0m\n\u001b[1;32m     64\u001b[0m             \u001b[0magent\u001b[0m\u001b[0;34m.\u001b[0m\u001b[0mupdate\u001b[0m\u001b[0;34m(\u001b[0m\u001b[0;34m)\u001b[0m\u001b[0;34m\u001b[0m\u001b[0;34m\u001b[0m\u001b[0m\n",
            "\u001b[0;32m<ipython-input-10-524386a9977a>\u001b[0m in \u001b[0;36mstep\u001b[0;34m(env, action, av_r, stack)\u001b[0m\n\u001b[1;32m     25\u001b[0m     \u001b[0mtotal_reward\u001b[0m \u001b[0;34m=\u001b[0m \u001b[0;36m0\u001b[0m\u001b[0;34m\u001b[0m\u001b[0;34m\u001b[0m\u001b[0m\n\u001b[1;32m     26\u001b[0m     \u001b[0;32mfor\u001b[0m \u001b[0mi\u001b[0m \u001b[0;32min\u001b[0m \u001b[0mrange\u001b[0m\u001b[0;34m(\u001b[0m\u001b[0;36m8\u001b[0m\u001b[0;34m)\u001b[0m\u001b[0;34m:\u001b[0m\u001b[0;34m\u001b[0m\u001b[0;34m\u001b[0m\u001b[0m\n\u001b[0;32m---> 27\u001b[0;31m         \u001b[0mimg_rgb\u001b[0m\u001b[0;34m,\u001b[0m \u001b[0mreward\u001b[0m\u001b[0;34m,\u001b[0m \u001b[0mdie\u001b[0m\u001b[0;34m,\u001b[0m \u001b[0m_\u001b[0m \u001b[0;34m=\u001b[0m \u001b[0menv\u001b[0m\u001b[0;34m.\u001b[0m\u001b[0mstep\u001b[0m\u001b[0;34m(\u001b[0m\u001b[0maction\u001b[0m\u001b[0;34m)\u001b[0m\u001b[0;34m\u001b[0m\u001b[0;34m\u001b[0m\u001b[0m\n\u001b[0m\u001b[1;32m     28\u001b[0m         \u001b[0;32mif\u001b[0m \u001b[0mdie\u001b[0m\u001b[0;34m:\u001b[0m\u001b[0;34m\u001b[0m\u001b[0;34m\u001b[0m\u001b[0m\n\u001b[1;32m     29\u001b[0m             \u001b[0mreward\u001b[0m \u001b[0;34m+=\u001b[0m \u001b[0;36m100\u001b[0m   \u001b[0;31m# no penalty for die\u001b[0m\u001b[0;34m\u001b[0m\u001b[0;34m\u001b[0m\u001b[0m\n",
            "\u001b[0;32m/usr/local/lib/python3.6/dist-packages/gym/wrappers/time_limit.py\u001b[0m in \u001b[0;36mstep\u001b[0;34m(self, action)\u001b[0m\n\u001b[1;32m     14\u001b[0m     \u001b[0;32mdef\u001b[0m \u001b[0mstep\u001b[0m\u001b[0;34m(\u001b[0m\u001b[0mself\u001b[0m\u001b[0;34m,\u001b[0m \u001b[0maction\u001b[0m\u001b[0;34m)\u001b[0m\u001b[0;34m:\u001b[0m\u001b[0;34m\u001b[0m\u001b[0;34m\u001b[0m\u001b[0m\n\u001b[1;32m     15\u001b[0m         \u001b[0;32massert\u001b[0m \u001b[0mself\u001b[0m\u001b[0;34m.\u001b[0m\u001b[0m_elapsed_steps\u001b[0m \u001b[0;32mis\u001b[0m \u001b[0;32mnot\u001b[0m \u001b[0;32mNone\u001b[0m\u001b[0;34m,\u001b[0m \u001b[0;34m\"Cannot call env.step() before calling reset()\"\u001b[0m\u001b[0;34m\u001b[0m\u001b[0;34m\u001b[0m\u001b[0m\n\u001b[0;32m---> 16\u001b[0;31m         \u001b[0mobservation\u001b[0m\u001b[0;34m,\u001b[0m \u001b[0mreward\u001b[0m\u001b[0;34m,\u001b[0m \u001b[0mdone\u001b[0m\u001b[0;34m,\u001b[0m \u001b[0minfo\u001b[0m \u001b[0;34m=\u001b[0m \u001b[0mself\u001b[0m\u001b[0;34m.\u001b[0m\u001b[0menv\u001b[0m\u001b[0;34m.\u001b[0m\u001b[0mstep\u001b[0m\u001b[0;34m(\u001b[0m\u001b[0maction\u001b[0m\u001b[0;34m)\u001b[0m\u001b[0;34m\u001b[0m\u001b[0;34m\u001b[0m\u001b[0m\n\u001b[0m\u001b[1;32m     17\u001b[0m         \u001b[0mself\u001b[0m\u001b[0;34m.\u001b[0m\u001b[0m_elapsed_steps\u001b[0m \u001b[0;34m+=\u001b[0m \u001b[0;36m1\u001b[0m\u001b[0;34m\u001b[0m\u001b[0;34m\u001b[0m\u001b[0m\n\u001b[1;32m     18\u001b[0m         \u001b[0;32mif\u001b[0m \u001b[0mself\u001b[0m\u001b[0;34m.\u001b[0m\u001b[0m_elapsed_steps\u001b[0m \u001b[0;34m>=\u001b[0m \u001b[0mself\u001b[0m\u001b[0;34m.\u001b[0m\u001b[0m_max_episode_steps\u001b[0m\u001b[0;34m:\u001b[0m\u001b[0;34m\u001b[0m\u001b[0;34m\u001b[0m\u001b[0m\n",
            "\u001b[0;32m/usr/local/lib/python3.6/dist-packages/gym/envs/box2d/car_racing.py\u001b[0m in \u001b[0;36mstep\u001b[0;34m(self, action)\u001b[0m\n\u001b[1;32m    321\u001b[0m         \u001b[0mself\u001b[0m\u001b[0;34m.\u001b[0m\u001b[0mt\u001b[0m \u001b[0;34m+=\u001b[0m \u001b[0;36m1.0\u001b[0m\u001b[0;34m/\u001b[0m\u001b[0mFPS\u001b[0m\u001b[0;34m\u001b[0m\u001b[0;34m\u001b[0m\u001b[0m\n\u001b[1;32m    322\u001b[0m \u001b[0;34m\u001b[0m\u001b[0m\n\u001b[0;32m--> 323\u001b[0;31m         \u001b[0mself\u001b[0m\u001b[0;34m.\u001b[0m\u001b[0mstate\u001b[0m \u001b[0;34m=\u001b[0m \u001b[0mself\u001b[0m\u001b[0;34m.\u001b[0m\u001b[0mrender\u001b[0m\u001b[0;34m(\u001b[0m\u001b[0;34m\"state_pixels\"\u001b[0m\u001b[0;34m)\u001b[0m\u001b[0;34m\u001b[0m\u001b[0;34m\u001b[0m\u001b[0m\n\u001b[0m\u001b[1;32m    324\u001b[0m \u001b[0;34m\u001b[0m\u001b[0m\n\u001b[1;32m    325\u001b[0m         \u001b[0mstep_reward\u001b[0m \u001b[0;34m=\u001b[0m \u001b[0;36m0\u001b[0m\u001b[0;34m\u001b[0m\u001b[0;34m\u001b[0m\u001b[0m\n",
            "\u001b[0;32m/usr/local/lib/python3.6/dist-packages/gym/envs/box2d/car_racing.py\u001b[0m in \u001b[0;36mrender\u001b[0;34m(self, mode)\u001b[0m\n\u001b[1;32m    403\u001b[0m             \u001b[0;32mreturn\u001b[0m \u001b[0mself\u001b[0m\u001b[0;34m.\u001b[0m\u001b[0mviewer\u001b[0m\u001b[0;34m.\u001b[0m\u001b[0misopen\u001b[0m\u001b[0;34m\u001b[0m\u001b[0;34m\u001b[0m\u001b[0m\n\u001b[1;32m    404\u001b[0m \u001b[0;34m\u001b[0m\u001b[0m\n\u001b[0;32m--> 405\u001b[0;31m         \u001b[0mimage_data\u001b[0m \u001b[0;34m=\u001b[0m \u001b[0mpyglet\u001b[0m\u001b[0;34m.\u001b[0m\u001b[0mimage\u001b[0m\u001b[0;34m.\u001b[0m\u001b[0mget_buffer_manager\u001b[0m\u001b[0;34m(\u001b[0m\u001b[0;34m)\u001b[0m\u001b[0;34m.\u001b[0m\u001b[0mget_color_buffer\u001b[0m\u001b[0;34m(\u001b[0m\u001b[0;34m)\u001b[0m\u001b[0;34m.\u001b[0m\u001b[0mget_image_data\u001b[0m\u001b[0;34m(\u001b[0m\u001b[0;34m)\u001b[0m\u001b[0;34m\u001b[0m\u001b[0;34m\u001b[0m\u001b[0m\n\u001b[0m\u001b[1;32m    406\u001b[0m         \u001b[0marr\u001b[0m \u001b[0;34m=\u001b[0m \u001b[0mnp\u001b[0m\u001b[0;34m.\u001b[0m\u001b[0mfromstring\u001b[0m\u001b[0;34m(\u001b[0m\u001b[0mimage_data\u001b[0m\u001b[0;34m.\u001b[0m\u001b[0mdata\u001b[0m\u001b[0;34m,\u001b[0m \u001b[0mdtype\u001b[0m\u001b[0;34m=\u001b[0m\u001b[0mnp\u001b[0m\u001b[0;34m.\u001b[0m\u001b[0muint8\u001b[0m\u001b[0;34m,\u001b[0m \u001b[0msep\u001b[0m\u001b[0;34m=\u001b[0m\u001b[0;34m''\u001b[0m\u001b[0;34m)\u001b[0m\u001b[0;34m\u001b[0m\u001b[0;34m\u001b[0m\u001b[0m\n\u001b[1;32m    407\u001b[0m         \u001b[0marr\u001b[0m \u001b[0;34m=\u001b[0m \u001b[0marr\u001b[0m\u001b[0;34m.\u001b[0m\u001b[0mreshape\u001b[0m\u001b[0;34m(\u001b[0m\u001b[0mVP_H\u001b[0m\u001b[0;34m,\u001b[0m \u001b[0mVP_W\u001b[0m\u001b[0;34m,\u001b[0m \u001b[0;36m4\u001b[0m\u001b[0;34m)\u001b[0m\u001b[0;34m\u001b[0m\u001b[0;34m\u001b[0m\u001b[0m\n",
            "\u001b[0;32m/usr/local/lib/python3.6/dist-packages/pyglet/image/__init__.py\u001b[0m in \u001b[0;36mget_image_data\u001b[0;34m(self)\u001b[0m\n\u001b[1;32m   2153\u001b[0m         \u001b[0mglPixelStorei\u001b[0m\u001b[0;34m(\u001b[0m\u001b[0mGL_PACK_ALIGNMENT\u001b[0m\u001b[0;34m,\u001b[0m \u001b[0;36m1\u001b[0m\u001b[0;34m)\u001b[0m\u001b[0;34m\u001b[0m\u001b[0;34m\u001b[0m\u001b[0m\n\u001b[1;32m   2154\u001b[0m         glReadPixels(x, y, self.width, self.height,\n\u001b[0;32m-> 2155\u001b[0;31m                      self.gl_format, GL_UNSIGNED_BYTE, buffer)\n\u001b[0m\u001b[1;32m   2156\u001b[0m         \u001b[0mglPopClientAttrib\u001b[0m\u001b[0;34m(\u001b[0m\u001b[0;34m)\u001b[0m\u001b[0;34m\u001b[0m\u001b[0;34m\u001b[0m\u001b[0m\n\u001b[1;32m   2157\u001b[0m \u001b[0;34m\u001b[0m\u001b[0m\n",
            "\u001b[0;32m/usr/local/lib/python3.6/dist-packages/pyglet/gl/lib.py\u001b[0m in \u001b[0;36merrcheck\u001b[0;34m(result, func, arguments)\u001b[0m\n\u001b[1;32m     83\u001b[0m     \u001b[0;32mpass\u001b[0m\u001b[0;34m\u001b[0m\u001b[0;34m\u001b[0m\u001b[0m\n\u001b[1;32m     84\u001b[0m \u001b[0;34m\u001b[0m\u001b[0m\n\u001b[0;32m---> 85\u001b[0;31m \u001b[0;32mdef\u001b[0m \u001b[0merrcheck\u001b[0m\u001b[0;34m(\u001b[0m\u001b[0mresult\u001b[0m\u001b[0;34m,\u001b[0m \u001b[0mfunc\u001b[0m\u001b[0;34m,\u001b[0m \u001b[0marguments\u001b[0m\u001b[0;34m)\u001b[0m\u001b[0;34m:\u001b[0m\u001b[0;34m\u001b[0m\u001b[0;34m\u001b[0m\u001b[0m\n\u001b[0m\u001b[1;32m     86\u001b[0m     \u001b[0;32mif\u001b[0m \u001b[0m_debug_gl_trace\u001b[0m\u001b[0;34m:\u001b[0m\u001b[0;34m\u001b[0m\u001b[0;34m\u001b[0m\u001b[0m\n\u001b[1;32m     87\u001b[0m         \u001b[0;32mtry\u001b[0m\u001b[0;34m:\u001b[0m\u001b[0;34m\u001b[0m\u001b[0;34m\u001b[0m\u001b[0m\n",
            "\u001b[0;31mKeyboardInterrupt\u001b[0m: "
          ]
        }
      ]
    },
    {
      "cell_type": "code",
      "metadata": {
        "id": "a_4F1gK-Tj8o",
        "colab_type": "code",
        "colab": {}
      },
      "source": [
        ""
      ],
      "execution_count": 0,
      "outputs": []
    }
  ]
}